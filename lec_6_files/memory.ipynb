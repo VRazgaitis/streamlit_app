{
 "cells": [
  {
   "cell_type": "markdown",
   "id": "4598097d",
   "metadata": {},
   "source": [
    "See the end of this updated tools and agent notebook for how to use langchain memory as required in HW 4-2"
   ]
  },
  {
   "cell_type": "code",
   "execution_count": 20,
   "id": "ef7ee044",
   "metadata": {},
   "outputs": [],
   "source": [
    "%reload_ext dotenv\n",
    "%dotenv -o"
   ]
  },
  {
   "cell_type": "code",
   "execution_count": 13,
   "id": "4d9c7821",
   "metadata": {},
   "outputs": [
    {
     "name": "stdout",
     "output_type": "stream",
     "text": [
      "\u001b[33mDEPRECATION: Configuring installation scheme with distutils config files is deprecated and will no longer work in the near future. If you are using a Homebrew or Linuxbrew Python, please see discussion at https://github.com/Homebrew/homebrew-core/issues/76621\u001b[0m\u001b[33m\n",
      "\u001b[0mDefaulting to user installation because normal site-packages is not writeable\n",
      "Requirement already satisfied: langchain in /Users/vaidasrazgaitis/Library/Python/3.8/lib/python/site-packages (0.1.5)\n",
      "Requirement already satisfied: PyYAML>=5.3 in /Users/vaidasrazgaitis/Library/Python/3.8/lib/python/site-packages (from langchain) (6.0.1)\n",
      "Requirement already satisfied: SQLAlchemy<3,>=1.4 in /Users/vaidasrazgaitis/Library/Python/3.8/lib/python/site-packages (from langchain) (2.0.25)\n",
      "Requirement already satisfied: aiohttp<4.0.0,>=3.8.3 in /Users/vaidasrazgaitis/Library/Python/3.8/lib/python/site-packages (from langchain) (3.9.3)\n",
      "Requirement already satisfied: async-timeout<5.0.0,>=4.0.0 in /Users/vaidasrazgaitis/Library/Python/3.8/lib/python/site-packages (from langchain) (4.0.3)\n",
      "Requirement already satisfied: dataclasses-json<0.7,>=0.5.7 in /Users/vaidasrazgaitis/Library/Python/3.8/lib/python/site-packages (from langchain) (0.6.4)\n",
      "Requirement already satisfied: jsonpatch<2.0,>=1.33 in /Users/vaidasrazgaitis/Library/Python/3.8/lib/python/site-packages (from langchain) (1.33)\n",
      "Requirement already satisfied: langchain-community<0.1,>=0.0.17 in /Users/vaidasrazgaitis/Library/Python/3.8/lib/python/site-packages (from langchain) (0.0.18)\n",
      "Requirement already satisfied: langchain-core<0.2,>=0.1.16 in /Users/vaidasrazgaitis/Library/Python/3.8/lib/python/site-packages (from langchain) (0.1.19)\n",
      "Requirement already satisfied: langsmith<0.1,>=0.0.83 in /Users/vaidasrazgaitis/Library/Python/3.8/lib/python/site-packages (from langchain) (0.0.86)\n",
      "Requirement already satisfied: numpy<2,>=1 in /Users/vaidasrazgaitis/Library/Python/3.8/lib/python/site-packages (from langchain) (1.24.3)\n",
      "Requirement already satisfied: pydantic<3,>=1 in /Users/vaidasrazgaitis/Library/Python/3.8/lib/python/site-packages (from langchain) (2.5.3)\n",
      "Requirement already satisfied: requests<3,>=2 in /Users/vaidasrazgaitis/Library/Python/3.8/lib/python/site-packages (from langchain) (2.31.0)\n",
      "Requirement already satisfied: tenacity<9.0.0,>=8.1.0 in /Users/vaidasrazgaitis/Library/Python/3.8/lib/python/site-packages (from langchain) (8.2.3)\n",
      "Requirement already satisfied: aiosignal>=1.1.2 in /Users/vaidasrazgaitis/Library/Python/3.8/lib/python/site-packages (from aiohttp<4.0.0,>=3.8.3->langchain) (1.3.1)\n",
      "Requirement already satisfied: attrs>=17.3.0 in /usr/local/lib/python3.8/site-packages (from aiohttp<4.0.0,>=3.8.3->langchain) (20.2.0)\n",
      "Requirement already satisfied: frozenlist>=1.1.1 in /Users/vaidasrazgaitis/Library/Python/3.8/lib/python/site-packages (from aiohttp<4.0.0,>=3.8.3->langchain) (1.4.1)\n",
      "Requirement already satisfied: multidict<7.0,>=4.5 in /Users/vaidasrazgaitis/Library/Python/3.8/lib/python/site-packages (from aiohttp<4.0.0,>=3.8.3->langchain) (6.0.5)\n",
      "Requirement already satisfied: yarl<2.0,>=1.0 in /Users/vaidasrazgaitis/Library/Python/3.8/lib/python/site-packages (from aiohttp<4.0.0,>=3.8.3->langchain) (1.9.4)\n",
      "Requirement already satisfied: marshmallow<4.0.0,>=3.18.0 in /Users/vaidasrazgaitis/Library/Python/3.8/lib/python/site-packages (from dataclasses-json<0.7,>=0.5.7->langchain) (3.20.2)\n",
      "Requirement already satisfied: typing-inspect<1,>=0.4.0 in /Users/vaidasrazgaitis/Library/Python/3.8/lib/python/site-packages (from dataclasses-json<0.7,>=0.5.7->langchain) (0.9.0)\n",
      "Requirement already satisfied: jsonpointer>=1.9 in /Users/vaidasrazgaitis/Library/Python/3.8/lib/python/site-packages (from jsonpatch<2.0,>=1.33->langchain) (2.4)\n",
      "Requirement already satisfied: anyio<5,>=3 in /Users/vaidasrazgaitis/Library/Python/3.8/lib/python/site-packages (from langchain-core<0.2,>=0.1.16->langchain) (4.2.0)\n",
      "Requirement already satisfied: packaging<24.0,>=23.2 in /Users/vaidasrazgaitis/Library/Python/3.8/lib/python/site-packages (from langchain-core<0.2,>=0.1.16->langchain) (23.2)\n",
      "Requirement already satisfied: annotated-types>=0.4.0 in /Users/vaidasrazgaitis/Library/Python/3.8/lib/python/site-packages (from pydantic<3,>=1->langchain) (0.6.0)\n",
      "Requirement already satisfied: pydantic-core==2.14.6 in /Users/vaidasrazgaitis/Library/Python/3.8/lib/python/site-packages (from pydantic<3,>=1->langchain) (2.14.6)\n",
      "Requirement already satisfied: typing-extensions>=4.6.1 in /Users/vaidasrazgaitis/Library/Python/3.8/lib/python/site-packages (from pydantic<3,>=1->langchain) (4.9.0)\n",
      "Requirement already satisfied: charset-normalizer<4,>=2 in /Users/vaidasrazgaitis/Library/Python/3.8/lib/python/site-packages (from requests<3,>=2->langchain) (3.3.2)\n",
      "Requirement already satisfied: idna<4,>=2.5 in /usr/local/lib/python3.8/site-packages (from requests<3,>=2->langchain) (2.10)\n",
      "Requirement already satisfied: urllib3<3,>=1.21.1 in /Users/vaidasrazgaitis/Library/Python/3.8/lib/python/site-packages (from requests<3,>=2->langchain) (2.2.0)\n",
      "Requirement already satisfied: certifi>=2017.4.17 in /usr/local/lib/python3.8/site-packages (from requests<3,>=2->langchain) (2020.6.20)\n",
      "Requirement already satisfied: greenlet!=0.4.17 in /Users/vaidasrazgaitis/Library/Python/3.8/lib/python/site-packages (from SQLAlchemy<3,>=1.4->langchain) (3.0.3)\n",
      "Requirement already satisfied: sniffio>=1.1 in /Users/vaidasrazgaitis/Library/Python/3.8/lib/python/site-packages (from anyio<5,>=3->langchain-core<0.2,>=0.1.16->langchain) (1.3.0)\n",
      "Requirement already satisfied: exceptiongroup>=1.0.2 in /usr/local/lib/python3.8/site-packages (from anyio<5,>=3->langchain-core<0.2,>=0.1.16->langchain) (1.1.3)\n",
      "Requirement already satisfied: mypy-extensions>=0.3.0 in /Users/vaidasrazgaitis/Library/Python/3.8/lib/python/site-packages (from typing-inspect<1,>=0.4.0->dataclasses-json<0.7,>=0.5.7->langchain) (1.0.0)\n",
      "\u001b[33mDEPRECATION: Configuring installation scheme with distutils config files is deprecated and will no longer work in the near future. If you are using a Homebrew or Linuxbrew Python, please see discussion at https://github.com/Homebrew/homebrew-core/issues/76621\u001b[0m\u001b[33m\n",
      "\u001b[0mDefaulting to user installation because normal site-packages is not writeable\n",
      "Requirement already satisfied: langchainhub in /Users/vaidasrazgaitis/Library/Python/3.8/lib/python/site-packages (0.1.14)\n",
      "Requirement already satisfied: requests<3,>=2 in /Users/vaidasrazgaitis/Library/Python/3.8/lib/python/site-packages (from langchainhub) (2.31.0)\n",
      "Requirement already satisfied: types-requests<3.0.0.0,>=2.31.0.2 in /Users/vaidasrazgaitis/Library/Python/3.8/lib/python/site-packages (from langchainhub) (2.31.0.20240125)\n",
      "Requirement already satisfied: charset-normalizer<4,>=2 in /Users/vaidasrazgaitis/Library/Python/3.8/lib/python/site-packages (from requests<3,>=2->langchainhub) (3.3.2)\n",
      "Requirement already satisfied: idna<4,>=2.5 in /usr/local/lib/python3.8/site-packages (from requests<3,>=2->langchainhub) (2.10)\n",
      "Requirement already satisfied: urllib3<3,>=1.21.1 in /Users/vaidasrazgaitis/Library/Python/3.8/lib/python/site-packages (from requests<3,>=2->langchainhub) (2.2.0)\n",
      "Requirement already satisfied: certifi>=2017.4.17 in /usr/local/lib/python3.8/site-packages (from requests<3,>=2->langchainhub) (2020.6.20)\n",
      "\u001b[33mDEPRECATION: Configuring installation scheme with distutils config files is deprecated and will no longer work in the near future. If you are using a Homebrew or Linuxbrew Python, please see discussion at https://github.com/Homebrew/homebrew-core/issues/76621\u001b[0m\u001b[33m\n",
      "\u001b[0mDefaulting to user installation because normal site-packages is not writeable\n",
      "Collecting langchain_openai\n",
      "  Downloading langchain_openai-0.0.6-py3-none-any.whl.metadata (2.5 kB)\n",
      "Requirement already satisfied: langchain-core<0.2,>=0.1.16 in /Users/vaidasrazgaitis/Library/Python/3.8/lib/python/site-packages (from langchain_openai) (0.1.19)\n",
      "Requirement already satisfied: numpy<2,>=1 in /Users/vaidasrazgaitis/Library/Python/3.8/lib/python/site-packages (from langchain_openai) (1.24.3)\n",
      "Collecting openai<2.0.0,>=1.10.0 (from langchain_openai)\n",
      "  Downloading openai-1.12.0-py3-none-any.whl.metadata (18 kB)\n",
      "Collecting tiktoken<1,>=0.5.2 (from langchain_openai)\n",
      "  Downloading tiktoken-0.6.0-cp38-cp38-macosx_10_9_x86_64.whl.metadata (6.6 kB)\n",
      "Requirement already satisfied: PyYAML>=5.3 in /Users/vaidasrazgaitis/Library/Python/3.8/lib/python/site-packages (from langchain-core<0.2,>=0.1.16->langchain_openai) (6.0.1)\n",
      "Requirement already satisfied: anyio<5,>=3 in /Users/vaidasrazgaitis/Library/Python/3.8/lib/python/site-packages (from langchain-core<0.2,>=0.1.16->langchain_openai) (4.2.0)\n",
      "Requirement already satisfied: jsonpatch<2.0,>=1.33 in /Users/vaidasrazgaitis/Library/Python/3.8/lib/python/site-packages (from langchain-core<0.2,>=0.1.16->langchain_openai) (1.33)\n",
      "Requirement already satisfied: langsmith<0.1,>=0.0.83 in /Users/vaidasrazgaitis/Library/Python/3.8/lib/python/site-packages (from langchain-core<0.2,>=0.1.16->langchain_openai) (0.0.86)\n",
      "Requirement already satisfied: packaging<24.0,>=23.2 in /Users/vaidasrazgaitis/Library/Python/3.8/lib/python/site-packages (from langchain-core<0.2,>=0.1.16->langchain_openai) (23.2)\n",
      "Requirement already satisfied: pydantic<3,>=1 in /Users/vaidasrazgaitis/Library/Python/3.8/lib/python/site-packages (from langchain-core<0.2,>=0.1.16->langchain_openai) (2.5.3)\n",
      "Requirement already satisfied: requests<3,>=2 in /Users/vaidasrazgaitis/Library/Python/3.8/lib/python/site-packages (from langchain-core<0.2,>=0.1.16->langchain_openai) (2.31.0)\n",
      "Requirement already satisfied: tenacity<9.0.0,>=8.1.0 in /Users/vaidasrazgaitis/Library/Python/3.8/lib/python/site-packages (from langchain-core<0.2,>=0.1.16->langchain_openai) (8.2.3)\n",
      "Requirement already satisfied: distro<2,>=1.7.0 in /Users/vaidasrazgaitis/Library/Python/3.8/lib/python/site-packages (from openai<2.0.0,>=1.10.0->langchain_openai) (1.9.0)\n",
      "Requirement already satisfied: httpx<1,>=0.23.0 in /Users/vaidasrazgaitis/Library/Python/3.8/lib/python/site-packages (from openai<2.0.0,>=1.10.0->langchain_openai) (0.26.0)\n",
      "Requirement already satisfied: sniffio in /Users/vaidasrazgaitis/Library/Python/3.8/lib/python/site-packages (from openai<2.0.0,>=1.10.0->langchain_openai) (1.3.0)\n",
      "Requirement already satisfied: tqdm>4 in /Users/vaidasrazgaitis/Library/Python/3.8/lib/python/site-packages (from openai<2.0.0,>=1.10.0->langchain_openai) (4.66.1)\n",
      "Requirement already satisfied: typing-extensions<5,>=4.7 in /Users/vaidasrazgaitis/Library/Python/3.8/lib/python/site-packages (from openai<2.0.0,>=1.10.0->langchain_openai) (4.9.0)\n",
      "Requirement already satisfied: regex>=2022.1.18 in /Users/vaidasrazgaitis/Library/Python/3.8/lib/python/site-packages (from tiktoken<1,>=0.5.2->langchain_openai) (2023.12.25)\n",
      "Requirement already satisfied: idna>=2.8 in /usr/local/lib/python3.8/site-packages (from anyio<5,>=3->langchain-core<0.2,>=0.1.16->langchain_openai) (2.10)\n",
      "Requirement already satisfied: exceptiongroup>=1.0.2 in /usr/local/lib/python3.8/site-packages (from anyio<5,>=3->langchain-core<0.2,>=0.1.16->langchain_openai) (1.1.3)\n",
      "Requirement already satisfied: certifi in /usr/local/lib/python3.8/site-packages (from httpx<1,>=0.23.0->openai<2.0.0,>=1.10.0->langchain_openai) (2020.6.20)\n",
      "Requirement already satisfied: httpcore==1.* in /Users/vaidasrazgaitis/Library/Python/3.8/lib/python/site-packages (from httpx<1,>=0.23.0->openai<2.0.0,>=1.10.0->langchain_openai) (1.0.2)\n",
      "Requirement already satisfied: h11<0.15,>=0.13 in /Users/vaidasrazgaitis/Library/Python/3.8/lib/python/site-packages (from httpcore==1.*->httpx<1,>=0.23.0->openai<2.0.0,>=1.10.0->langchain_openai) (0.14.0)\n",
      "Requirement already satisfied: jsonpointer>=1.9 in /Users/vaidasrazgaitis/Library/Python/3.8/lib/python/site-packages (from jsonpatch<2.0,>=1.33->langchain-core<0.2,>=0.1.16->langchain_openai) (2.4)\n",
      "Requirement already satisfied: annotated-types>=0.4.0 in /Users/vaidasrazgaitis/Library/Python/3.8/lib/python/site-packages (from pydantic<3,>=1->langchain-core<0.2,>=0.1.16->langchain_openai) (0.6.0)\n",
      "Requirement already satisfied: pydantic-core==2.14.6 in /Users/vaidasrazgaitis/Library/Python/3.8/lib/python/site-packages (from pydantic<3,>=1->langchain-core<0.2,>=0.1.16->langchain_openai) (2.14.6)\n",
      "Requirement already satisfied: charset-normalizer<4,>=2 in /Users/vaidasrazgaitis/Library/Python/3.8/lib/python/site-packages (from requests<3,>=2->langchain-core<0.2,>=0.1.16->langchain_openai) (3.3.2)\n",
      "Requirement already satisfied: urllib3<3,>=1.21.1 in /Users/vaidasrazgaitis/Library/Python/3.8/lib/python/site-packages (from requests<3,>=2->langchain-core<0.2,>=0.1.16->langchain_openai) (2.2.0)\n",
      "Downloading langchain_openai-0.0.6-py3-none-any.whl (29 kB)\n",
      "Downloading openai-1.12.0-py3-none-any.whl (226 kB)\n",
      "\u001b[2K   \u001b[90m━━━━━━━━━━━━━━━━━━━━━━━━━━━━━━━━━━━━━━━\u001b[0m \u001b[32m226.7/226.7 kB\u001b[0m \u001b[31m980.0 kB/s\u001b[0m eta \u001b[36m0:00:00\u001b[0m0:01\u001b[0m00:01\u001b[0m\n",
      "\u001b[?25hDownloading tiktoken-0.6.0-cp38-cp38-macosx_10_9_x86_64.whl (975 kB)\n",
      "\u001b[2K   \u001b[90m━━━━━━━━━━━━━━━━━━━━━━━━━━━━━━━━━━━━━━━━\u001b[0m \u001b[32m975.1/975.1 kB\u001b[0m \u001b[31m1.4 MB/s\u001b[0m eta \u001b[36m0:00:00\u001b[0ma \u001b[36m0:00:01\u001b[0m\n",
      "\u001b[?25hInstalling collected packages: tiktoken, openai, langchain_openai\n",
      "  Attempting uninstall: openai\n",
      "    Found existing installation: openai 1.6.1\n",
      "    Uninstalling openai-1.6.1:\n",
      "      Successfully uninstalled openai-1.6.1\n",
      "Successfully installed langchain_openai-0.0.6 openai-1.12.0 tiktoken-0.6.0\n",
      "Package                      Version\n",
      "---------------------------- ---------------\n",
      "absl-py                      2.1.0\n",
      "aiohttp                      3.9.3\n",
      "aiosignal                    1.3.1\n",
      "alembic                      1.13.1\n",
      "altair                       5.2.0\n",
      "annotated-types              0.6.0\n",
      "anyio                        4.2.0\n",
      "appdirs                      1.4.4\n",
      "appnope                      0.1.0\n",
      "argon2-cffi                  20.1.0\n",
      "astunparse                   1.6.3\n",
      "async-generator              1.10\n",
      "async-timeout                4.0.3\n",
      "attrs                        20.2.0\n",
      "audioread                    2.1.8\n",
      "backcall                     0.2.0\n",
      "backports.zoneinfo           0.2.1\n",
      "beautifulsoup4               4.12.2\n",
      "bleach                       3.1.5\n",
      "blinker                      1.7.0\n",
      "boto3                        1.14.61\n",
      "botocore                     1.17.61\n",
      "cachetools                   5.3.2\n",
      "certifi                      2020.6.20\n",
      "certipy                      0.1.3\n",
      "cffi                         1.14.2\n",
      "chardet                      3.0.4\n",
      "charset-normalizer           3.3.2\n",
      "click                        8.1.7\n",
      "colorama                     0.4.6\n",
      "conda                        4.3.16\n",
      "contourpy                    1.1.1\n",
      "cryptography                 41.0.7\n",
      "cycler                       0.10.0\n",
      "dataclasses-json             0.6.4\n",
      "decorator                    4.4.2\n",
      "defusedxml                   0.6.0\n",
      "distro                       1.9.0\n",
      "docopt                       0.6.2\n",
      "docutils                     0.15.2\n",
      "entrypoints                  0.3\n",
      "exceptiongroup               1.1.3\n",
      "fastjsonschema               2.19.1\n",
      "filelock                     3.13.1\n",
      "Flask                        3.0.2\n",
      "flatbuffers                  23.5.26\n",
      "fonttools                    4.46.0\n",
      "frozenlist                   1.4.1\n",
      "fsspec                       2024.2.0\n",
      "gast                         0.4.0\n",
      "gitdb                        4.0.11\n",
      "GitPython                    3.1.41\n",
      "google-auth                  2.27.0\n",
      "google-auth-oauthlib         1.0.0\n",
      "google-pasta                 0.2.0\n",
      "greenlet                     3.0.3\n",
      "grpcio                       1.60.1\n",
      "h11                          0.14.0\n",
      "h5py                         3.10.0\n",
      "httpcore                     1.0.2\n",
      "httpx                        0.26.0\n",
      "huggingface-hub              0.20.3\n",
      "idna                         2.10\n",
      "importlib-metadata           7.0.1\n",
      "importlib-resources          6.1.1\n",
      "iniconfig                    2.0.0\n",
      "ipykernel                    5.3.4\n",
      "ipython                      7.18.1\n",
      "ipython-genutils             0.2.0\n",
      "itsdangerous                 2.1.2\n",
      "jedi                         0.17.2\n",
      "Jinja2                       2.11.2\n",
      "jmespath                     0.10.0\n",
      "joblib                       0.16.0\n",
      "json5                        0.9.5\n",
      "jsonpatch                    1.33\n",
      "jsonpointer                  2.4\n",
      "jsonschema                   3.2.0\n",
      "jupyter-client               6.1.7\n",
      "jupyter-core                 4.6.3\n",
      "jupyter-telemetry            0.1.0\n",
      "jupyterhub                   4.0.2\n",
      "jupyterlab                   2.2.7\n",
      "jupyterlab-pygments          0.1.1\n",
      "jupyterlab-server            1.2.0\n",
      "keras                        2.13.1\n",
      "kiwisolver                   1.2.0\n",
      "langchain                    0.1.5\n",
      "langchain-community          0.0.18\n",
      "langchain-core               0.1.19\n",
      "langchain-openai             0.0.6\n",
      "langchainhub                 0.1.14\n",
      "langsmith                    0.0.86\n",
      "libclang                     16.0.6\n",
      "librosa                      0.8.0\n",
      "llvmlite                     0.34.0\n",
      "Mako                         1.3.0\n",
      "Markdown                     3.5.2\n",
      "markdown-it-py               3.0.0\n",
      "MarkupSafe                   1.1.1\n",
      "marshmallow                  3.20.2\n",
      "matplotlib                   3.7.4\n",
      "mdurl                        0.1.2\n",
      "mistune                      0.8.4\n",
      "multidict                    6.0.5\n",
      "mypy-extensions              1.0.0\n",
      "nbclient                     0.5.0\n",
      "nbconvert                    6.0.2\n",
      "nbformat                     5.0.7\n",
      "nest-asyncio                 1.4.0\n",
      "notebook                     6.1.4\n",
      "numba                        0.51.2\n",
      "numpy                        1.24.4\n",
      "oauthlib                     3.2.2\n",
      "openai                       1.12.0\n",
      "opt-einsum                   3.3.0\n",
      "packaging                    20.4\n",
      "pamela                       1.1.0\n",
      "pandas                       2.0.3\n",
      "pandocfilters                1.4.2\n",
      "parso                        0.7.1\n",
      "pexpect                      4.8.0\n",
      "pickleshare                  0.7.5\n",
      "Pillow                       7.2.0\n",
      "pip                          20.1.1\n",
      "platformdirs                 4.1.0\n",
      "pluggy                       1.3.0\n",
      "pooch                        1.2.0\n",
      "prometheus-client            0.8.0\n",
      "prompt-toolkit               3.0.7\n",
      "protobuf                     4.25.2\n",
      "psutil                       5.7.2\n",
      "ptyprocess                   0.6.0\n",
      "pyarrow                      15.0.0\n",
      "pyasn1                       0.5.1\n",
      "pyasn1-modules               0.3.0\n",
      "pycosat                      0.6.6\n",
      "pycparser                    2.20\n",
      "pydantic                     2.5.3\n",
      "pydantic_core                2.14.6\n",
      "pydeck                       0.8.1b0\n",
      "pygame                       2.5.2\n",
      "Pygments                     2.16.1\n",
      "pyOpenSSL                    23.3.0\n",
      "pyparsing                    2.4.7\n",
      "pyrsistent                   0.17.3\n",
      "pytest                       7.4.2\n",
      "python-dateutil              2.8.2\n",
      "python-dotenv                1.0.1\n",
      "python-json-logger           2.0.7\n",
      "pytz                         2023.3.post1\n",
      "PyYAML                       6.0.1\n",
      "pyzmq                        19.0.2\n",
      "regex                        2023.12.25\n",
      "requests                     2.24.0\n",
      "requests-oauthlib            1.3.1\n",
      "resampy                      0.2.2\n",
      "rich                         13.6.0\n",
      "rsa                          4.9\n",
      "ruamel.yaml                  0.18.5\n",
      "ruamel.yaml.clib             0.2.8\n",
      "s3transfer                   0.3.3\n",
      "safetensors                  0.4.2\n",
      "scikit-learn                 0.23.2\n",
      "scipy                        1.5.2\n",
      "seaborn                      0.13.0\n",
      "Send2Trash                   1.5.0\n",
      "setuptools                   49.2.0\n",
      "six                          1.15.0\n",
      "smmap                        5.0.1\n",
      "sniffio                      1.3.0\n",
      "SoundFile                    0.10.3.post1\n",
      "soupsieve                    2.5\n",
      "SQLAlchemy                   2.0.25\n",
      "streamlit                    1.31.0\n",
      "tabulate                     0.9.0\n",
      "tenacity                     8.2.3\n",
      "tensorboard                  2.13.0\n",
      "tensorboard-data-server      0.7.2\n",
      "tensorflow                   2.13.1\n",
      "tensorflow-estimator         2.13.0\n",
      "tensorflow-io-gcs-filesystem 0.34.0\n",
      "termcolor                    2.4.0\n",
      "terminado                    0.8.3\n",
      "testpath                     0.4.4\n",
      "threadpoolctl                2.1.0\n",
      "tiktoken                     0.6.0\n",
      "tinycss2                     1.2.1\n",
      "tokenizers                   0.15.2\n",
      "toml                         0.10.2\n",
      "tomli                        2.0.1\n",
      "toolz                        0.12.1\n",
      "tornado                      6.0.4\n",
      "tqdm                         4.66.1\n",
      "traitlets                    5.0.4\n",
      "transformers                 4.37.2\n",
      "types-requests               2.31.0.20240125\n",
      "typing_extensions            4.8.0\n",
      "typing-inspect               0.9.0\n",
      "tzdata                       2023.3\n",
      "tzlocal                      5.2\n",
      "urllib3                      1.25.10\n",
      "validators                   0.22.0\n",
      "wcwidth                      0.2.5\n",
      "webencodings                 0.5.1\n",
      "Werkzeug                     3.0.1\n",
      "wheel                        0.34.2\n",
      "wrapt                        1.16.0\n",
      "yarl                         1.9.4\n",
      "zipp                         3.17.0\n"
     ]
    }
   ],
   "source": [
    "!pip3 install langchain\n",
    "!pip3 install langchainhub\n",
    "!pip3 install langchain_openai\n",
    "\n",
    "!pip3 list"
   ]
  },
  {
   "cell_type": "code",
   "execution_count": 14,
   "id": "abf9a2e4",
   "metadata": {},
   "outputs": [],
   "source": [
    "\n",
    "from langchain_openai import ChatOpenAI\n",
    "from langchain.prompts import ChatPromptTemplate\n",
    "from langchain.schema.output_parser import StrOutputParser\n",
    "from langchain.globals import set_debug\n",
    "from langchain.agents import AgentExecutor"
   ]
  },
  {
   "cell_type": "markdown",
   "id": "490354a8",
   "metadata": {},
   "source": [
    "## Build an agent from scratch"
   ]
  },
  {
   "cell_type": "markdown",
   "id": "c4bd57c1",
   "metadata": {},
   "source": [
    "https://python.langchain.com/docs/modules/agents/"
   ]
  },
  {
   "cell_type": "code",
   "execution_count": 21,
   "id": "bd6f066e",
   "metadata": {},
   "outputs": [],
   "source": [
    "llm = ChatOpenAI(model_name=\"gpt-3.5-turbo\", temperature=0)"
   ]
  },
  {
   "cell_type": "markdown",
   "id": "28e7819e",
   "metadata": {},
   "source": [
    "Let's create a custom tool and include an explanation so the LLM can understand what it is useful for"
   ]
  },
  {
   "cell_type": "code",
   "execution_count": 22,
   "id": "ab8081e3",
   "metadata": {},
   "outputs": [],
   "source": [
    "from langchain.agents import tool\n",
    "\n",
    "@tool\n",
    "def get_word_length(word: str) -> int:\n",
    "    \"\"\"Returns the length of a word.\"\"\"\n",
    "    return len(word)\n",
    "\n",
    "tools = [get_word_length]"
   ]
  },
  {
   "cell_type": "code",
   "execution_count": 23,
   "id": "07ed598f",
   "metadata": {},
   "outputs": [],
   "source": [
    "from langchain.prompts import ChatPromptTemplate, MessagesPlaceholder\n",
    "prompt = ChatPromptTemplate.from_messages([\n",
    "    (\"system\", \"You are very powerful assistant, but bad at calculating lengths of words.\"),\n",
    "    (\"user\", \"{input}\"),\n",
    "    MessagesPlaceholder(variable_name=\"agent_scratchpad\"),\n",
    "])"
   ]
  },
  {
   "cell_type": "markdown",
   "id": "64e0bb6b",
   "metadata": {},
   "source": [
    "How does the agent know what tools it can use? Those are passed in as a separate argument, so we can bind those as keyword arguments to the LLM."
   ]
  },
  {
   "cell_type": "code",
   "execution_count": 24,
   "id": "b6e71558",
   "metadata": {},
   "outputs": [],
   "source": [
    "llm_with_tools = llm.bind_tools(tools)"
   ]
  },
  {
   "cell_type": "markdown",
   "id": "5233023e",
   "metadata": {},
   "source": [
    "## Creating memory by hand\n",
    "\n",
    "In order to do this, we need to do two things:\n",
    "\n",
    "1. Add a place for memory variables to go in the prompt\n",
    "2. Keep track of the chat history\n",
    "\n",
    "First, let's add a place for memory in the prompt. We do this by adding a placeholder for messages with the key `chat_history`. Notice that we put this ABOVE the new user input (to follow the conversation flow)."
   ]
  },
  {
   "cell_type": "code",
   "execution_count": 25,
   "id": "ed2d281e",
   "metadata": {},
   "outputs": [],
   "source": [
    "from langchain.prompts import MessagesPlaceholder\n",
    "\n",
    "MEMORY_KEY = \"chat_history\"\n",
    "prompt = ChatPromptTemplate.from_messages([\n",
    "    (\"system\", \"You are very powerful assistant, but bad at calculating lengths of words.\"),\n",
    "    MessagesPlaceholder(variable_name=MEMORY_KEY),\n",
    "    (\"user\", \"{input}\"),\n",
    "    MessagesPlaceholder(variable_name=\"agent_scratchpad\"),\n",
    "])"
   ]
  },
  {
   "cell_type": "markdown",
   "id": "1c609439",
   "metadata": {},
   "source": [
    "We can then set up a list to track the chat history"
   ]
  },
  {
   "cell_type": "code",
   "execution_count": 26,
   "id": "7992e883",
   "metadata": {},
   "outputs": [],
   "source": [
    "from langchain.schema.messages import HumanMessage, AIMessage\n",
    "chat_history = []"
   ]
  },
  {
   "cell_type": "markdown",
   "id": "5c1defc0",
   "metadata": {},
   "source": [
    "Putting it together"
   ]
  },
  {
   "cell_type": "code",
   "execution_count": 27,
   "id": "3899fe20",
   "metadata": {},
   "outputs": [],
   "source": [
    "from langchain.agents.format_scratchpad.openai_tools import (\n",
    "    format_to_openai_tool_messages,\n",
    ")\n",
    "from langchain.agents.output_parsers.openai_tools import OpenAIToolsAgentOutputParser\n",
    "agent = (\n",
    "    {\n",
    "        \"input\": lambda x: x[\"input\"],\n",
    "        \"agent_scratchpad\": lambda x: format_to_openai_tool_messages(\n",
    "            x[\"intermediate_steps\"]\n",
    "        ),\n",
    "        \"chat_history\": lambda x: x[\"chat_history\"],\n",
    "    }\n",
    "    | prompt\n",
    "    | llm_with_tools\n",
    "    | OpenAIToolsAgentOutputParser()\n",
    ")\n",
    "agent_executor = AgentExecutor(agent=agent, tools=tools, verbose=True)"
   ]
  },
  {
   "cell_type": "markdown",
   "id": "fa8e7bf8",
   "metadata": {},
   "source": [
    "When running, we now need to track the inputs and outputs as chat history"
   ]
  },
  {
   "cell_type": "code",
   "execution_count": 28,
   "id": "0dc8e960-18c4-4337-bda3-94e195ffaf7a",
   "metadata": {},
   "outputs": [
    {
     "name": "stdout",
     "output_type": "stream",
     "text": [
      "\n",
      "\n",
      "\u001b[1m> Entering new AgentExecutor chain...\u001b[0m\n",
      "\u001b[32;1m\u001b[1;3m\n",
      "Invoking: `get_word_length` with `{'word': 'educa'}`\n",
      "\n",
      "\n",
      "\u001b[0m\u001b[36;1m\u001b[1;3m5\u001b[0m\u001b[32;1m\u001b[1;3mThere are 5 letters in the word \"educa\".\u001b[0m\n",
      "\n",
      "\u001b[1m> Finished chain.\u001b[0m\n"
     ]
    }
   ],
   "source": [
    "input1 = \"how many letters in the word educa?\"\n",
    "result = agent_executor.invoke({\"input\": input1, \"chat_history\": chat_history})"
   ]
  },
  {
   "cell_type": "code",
   "execution_count": 38,
   "id": "c5a76e33-5eb5-4686-bd74-e1555c4f987f",
   "metadata": {},
   "outputs": [
    {
     "data": {
      "text/plain": [
       "[HumanMessage(content='how many letters in the word educa?'),\n",
       " AIMessage(content='There are 5 letters in the word \"educa\".')]"
      ]
     },
     "execution_count": 38,
     "metadata": {},
     "output_type": "execute_result"
    }
   ],
   "source": [
    "chat_history"
   ]
  },
  {
   "cell_type": "code",
   "execution_count": 40,
   "id": "b26fca8f",
   "metadata": {},
   "outputs": [
    {
     "name": "stdout",
     "output_type": "stream",
     "text": [
      "\n",
      "\n",
      "\u001b[1m> Entering new AgentExecutor chain...\u001b[0m\n",
      "\u001b[32;1m\u001b[1;3mTo complete your homework assignment, you can follow these steps:\n",
      "\n",
      "1. Read the assignment instructions carefully to understand what is required.\n",
      "2. Break down the assignment into smaller tasks or questions.\n",
      "3. Create a schedule or timeline to manage your time effectively.\n",
      "4. Gather all the necessary resources, such as textbooks, notes, or online materials.\n",
      "5. Start working on each task or question one by one, focusing on understanding the concepts and applying them correctly.\n",
      "6. If you encounter any difficulties or have questions, don't hesitate to ask your teacher or classmates for help.\n",
      "7. Double-check your work for any errors or mistakes before submitting it.\n",
      "8. Submit your completed assignment on time, following the submission guidelines provided by your teacher.\n",
      "\n",
      "Remember to stay organized, manage your time effectively, and seek help when needed. Good luck with your homework assignment!\u001b[0m\n",
      "\n",
      "\u001b[1m> Finished chain.\u001b[0m\n",
      "\n",
      "\n",
      "\u001b[1m> Entering new AgentExecutor chain...\u001b[0m\n",
      "\u001b[32;1m\u001b[1;3m\n",
      "Invoking: `get_word_length` with `{'word': 'educa'}`\n",
      "\n",
      "\n",
      "\u001b[0m\u001b[36;1m\u001b[1;3m5\u001b[0m\u001b[32;1m\u001b[1;3mYes, \"educa\" is a real word and it has 5 letters.\u001b[0m\n",
      "\n",
      "\u001b[1m> Finished chain.\u001b[0m\n"
     ]
    },
    {
     "data": {
      "text/plain": [
       "{'input': 'is that a real word?',\n",
       " 'chat_history': [HumanMessage(content='how many letters in the word educa?'),\n",
       "  AIMessage(content='There are 5 letters in the word \"educa\".'),\n",
       "  HumanMessage(content='how many letters in the word educa?'),\n",
       "  AIMessage(content='There are 5 letters in the word \"educa\".'),\n",
       "  HumanMessage(content='How will I complete this homework assignment?'),\n",
       "  AIMessage(content=\"To complete your homework assignment, you can follow these steps:\\n\\n1. Read the assignment instructions carefully to understand what is required.\\n2. Break down the assignment into smaller tasks or questions.\\n3. Create a schedule or timeline to manage your time effectively.\\n4. Gather all the necessary resources, such as textbooks, notes, or online materials.\\n5. Start working on each task or question one by one, focusing on understanding the concepts and applying them correctly.\\n6. If you encounter any difficulties or have questions, don't hesitate to ask your teacher or classmates for help.\\n7. Double-check your work for any errors or mistakes before submitting it.\\n8. Submit your completed assignment on time, following the submission guidelines provided by your teacher.\\n\\nRemember to stay organized, manage your time effectively, and seek help when needed. Good luck with your homework assignment!\")],\n",
       " 'output': 'Yes, \"educa\" is a real word and it has 5 letters.'}"
      ]
     },
     "execution_count": 40,
     "metadata": {},
     "output_type": "execute_result"
    }
   ],
   "source": [
    "# input1 = \"how many letters in the word educa?\"\n",
    "input1 = \"How will I complete this homework assignment?\"\n",
    "result = agent_executor.invoke({\"input\": input1, \"chat_history\": chat_history})\n",
    "chat_history.append(HumanMessage(content=input1))\n",
    "chat_history.append(AIMessage(content=result['output']))\n",
    "agent_executor.invoke({\"input\": \"is that a real word?\", \"chat_history\": chat_history})"
   ]
  },
  {
   "cell_type": "code",
   "execution_count": 42,
   "id": "d55ae408-587c-4748-8c76-91730bb19ecb",
   "metadata": {},
   "outputs": [
    {
     "data": {
      "text/plain": [
       "[HumanMessage(content='how many letters in the word educa?'),\n",
       " AIMessage(content='There are 5 letters in the word \"educa\".'),\n",
       " HumanMessage(content='how many letters in the word educa?'),\n",
       " AIMessage(content='There are 5 letters in the word \"educa\".'),\n",
       " HumanMessage(content='How will I complete this homework assignment?'),\n",
       " AIMessage(content=\"To complete your homework assignment, you can follow these steps:\\n\\n1. Read the assignment instructions carefully to understand what is required.\\n2. Break down the assignment into smaller tasks or questions.\\n3. Create a schedule or timeline to manage your time effectively.\\n4. Gather all the necessary resources, such as textbooks, notes, or online materials.\\n5. Start working on each task or question one by one, focusing on understanding the concepts and applying them correctly.\\n6. If you encounter any difficulties or have questions, don't hesitate to ask your teacher or classmates for help.\\n7. Double-check your work for any errors or mistakes before submitting it.\\n8. Submit your completed assignment on time, following the submission guidelines provided by your teacher.\\n\\nRemember to stay organized, manage your time effectively, and seek help when needed. Good luck with your homework assignment!\")]"
      ]
     },
     "execution_count": 42,
     "metadata": {},
     "output_type": "execute_result"
    }
   ],
   "source": [
    "chat_history"
   ]
  },
  {
   "cell_type": "markdown",
   "id": "5a8b1242",
   "metadata": {},
   "source": [
    "## Exercise 5-3: Using langchain's memory\n",
    "**Exercise 5-3 (extra credit):** There are \"memory\" tools in langchain to manage this easier. Rewrite this example to use it"
   ]
  },
  {
   "cell_type": "markdown",
   "id": "c736a197",
   "metadata": {},
   "source": [
    "The above pattern is so common that langchain provides a `ConversationBufferMemory` that does exactly what the above does (updating the `chat_history` key with the previous response) and the `AgentExecutor` constructor accepts a `memory` argument.\n",
    "\n",
    "The `memory` argument is used [as follows](https://api.python.langchain.com/en/latest/agents/langchain.agents.agent.AgentExecutor.html)\n",
    "> Memory is a class that gets called at the start and at the end of every chain. At the start, memory loads variables and passes them along in the chain. At the end, it saves any returned variables. There are many different types of memory - please see memory docs for the full catalog."
   ]
  },
  {
   "cell_type": "markdown",
   "id": "69752398",
   "metadata": {},
   "source": []
  },
  {
   "cell_type": "code",
   "execution_count": 34,
   "id": "5104323f",
   "metadata": {},
   "outputs": [],
   "source": [
    "from langchain.memory import ConversationBufferMemory\n",
    "memory = ConversationBufferMemory(memory_key=\"chat_history\", return_messages=True)\n",
    "agent_executor_m = AgentExecutor(agent=agent, tools=tools, memory = memory, verbose=True)"
   ]
  },
  {
   "cell_type": "code",
   "execution_count": 36,
   "id": "a3cf78e0",
   "metadata": {},
   "outputs": [
    {
     "name": "stdout",
     "output_type": "stream",
     "text": [
      "\n",
      "\n",
      "\u001b[1m> Entering new AgentExecutor chain...\u001b[0m\n",
      "\u001b[32;1m\u001b[1;3m\n",
      "Invoking: `get_word_length` with `{'word': 'educe'}`\n",
      "\n",
      "\n",
      "\u001b[0m\u001b[36;1m\u001b[1;3m5\u001b[0m\u001b[32;1m\u001b[1;3mThere are 5 letters in the word \"educe\".\u001b[0m\n",
      "\n",
      "\u001b[1m> Finished chain.\u001b[0m\n",
      "\n",
      "\n",
      "\u001b[1m> Entering new AgentExecutor chain...\u001b[0m\n",
      "\u001b[32;1m\u001b[1;3mYes, \"educe\" is a real word. It means to draw out or bring forth something, especially information or a response.\u001b[0m\n",
      "\n",
      "\u001b[1m> Finished chain.\u001b[0m\n"
     ]
    },
    {
     "data": {
      "text/plain": [
       "{'input': 'is that a real word?',\n",
       " 'chat_history': [HumanMessage(content='how many letters in the word educe?'),\n",
       "  AIMessage(content='There are 5 letters in the word \"educe\".'),\n",
       "  HumanMessage(content='is that a real word?'),\n",
       "  AIMessage(content='Yes, \"educe\" is a real word. It means to draw out or bring forth something, especially information or a response.')],\n",
       " 'output': 'Yes, \"educe\" is a real word. It means to draw out or bring forth something, especially information or a response.'}"
      ]
     },
     "execution_count": 36,
     "metadata": {},
     "output_type": "execute_result"
    }
   ],
   "source": [
    "memory.clear() # In case I am rerunning this cell\n",
    "input1 = \"how many letters in the word educe?\"\n",
    "result = agent_executor_m.invoke({\"input\": input1, \"chat_history\": chat_history})\n",
    "agent_executor_m.invoke({\"input\": \"is that a real word?\", \"chat_history\": chat_history})"
   ]
  },
  {
   "cell_type": "code",
   "execution_count": null,
   "id": "e36332d7-d4eb-43d2-b5a9-066bcbc13ebe",
   "metadata": {},
   "outputs": [],
   "source": []
  }
 ],
 "metadata": {
  "kernelspec": {
   "display_name": "Python 3 (ipykernel)",
   "language": "python",
   "name": "python3"
  },
  "language_info": {
   "codemirror_mode": {
    "name": "ipython",
    "version": 3
   },
   "file_extension": ".py",
   "mimetype": "text/x-python",
   "name": "python",
   "nbconvert_exporter": "python",
   "pygments_lexer": "ipython3",
   "version": "3.8.5"
  }
 },
 "nbformat": 4,
 "nbformat_minor": 5
}
